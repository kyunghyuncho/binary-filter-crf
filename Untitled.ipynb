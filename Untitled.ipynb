{
 "cells": [
  {
   "cell_type": "code",
   "execution_count": null,
   "metadata": {},
   "outputs": [],
   "source": [
    "!pip install pytorch-crf"
   ]
  },
  {
   "cell_type": "code",
   "execution_count": 103,
   "metadata": {},
   "outputs": [],
   "source": [
    "import torch\n",
    "from torch import nn\n",
    "from torch import optim\n",
    "from torchcrf import CRF"
   ]
  },
  {
   "cell_type": "code",
   "execution_count": 24,
   "metadata": {},
   "outputs": [],
   "source": [
    "import numpy"
   ]
  },
  {
   "cell_type": "code",
   "execution_count": 259,
   "metadata": {},
   "outputs": [],
   "source": [
    "def sigmoid(a):\n",
    "    return 1./(1. + numpy.exp(-a))"
   ]
  },
  {
   "cell_type": "code",
   "execution_count": 262,
   "metadata": {},
   "outputs": [],
   "source": [
    "''' generate data '''\n",
    "transition = numpy.array([[0.8, 0.2], [0.1, 0.9]])\n",
    "\n",
    "N = 50\n",
    "L = 50\n",
    "st_seqs = []\n",
    "obs_seqs = []\n",
    "\n",
    "for n in range(N):\n",
    "    init = int(numpy.random.rand() > 0.5)\n",
    "    s = []\n",
    "    o = []\n",
    "    for t in range(L):\n",
    "        tp = transition[init][0]\n",
    "        s.append(int(numpy.random.rand() > tp))\n",
    "        op = sigmoid((2. * s[-1] - 1.) + 0.3 * numpy.random.randn())\n",
    "        iop = 1. - op\n",
    "        if s == 0:\n",
    "            o.append([op, iop])\n",
    "        else:\n",
    "            o.append([iop, op])\n",
    "    st_seqs.append(s)\n",
    "    obs_seqs.append(o)\n",
    "    \n",
    "st_seqs = torch.from_numpy(numpy.array(st_seqs))\n",
    "obs_seqs = torch.from_numpy(numpy.log(numpy.array(obs_seqs)))"
   ]
  },
  {
   "cell_type": "code",
   "execution_count": 267,
   "metadata": {},
   "outputs": [],
   "source": [
    "model = CRF(2)\n",
    "optimizer = optim.Adam(model.parameters(), lr=0.001)"
   ]
  },
  {
   "cell_type": "code",
   "execution_count": 264,
   "metadata": {},
   "outputs": [
    {
     "name": "stdout",
     "output_type": "stream",
     "text": [
      "loss 30.995348678424037 at update 1\n",
      "loss 26.11239015826308 at update 101\n",
      "loss 23.028353541460493 at update 201\n",
      "loss 21.434001959671964 at update 301\n",
      "loss 20.63814698263612 at update 401\n",
      "loss 20.239464190448686 at update 501\n",
      "loss 20.034024937085633 at update 601\n",
      "loss 19.924984346355533 at update 701\n",
      "loss 19.86593551525732 at update 801\n",
      "loss 19.833452191134437 at update 901\n",
      "loss 19.815233843849377 at update 1001\n",
      "loss 19.80476783415728 at update 1101\n",
      "loss 19.798618443412316 at update 1201\n",
      "loss 19.794958430289736 at update 1301\n",
      "loss 19.792782779533358 at update 1401\n",
      "loss 19.79150978868243 at update 1501\n",
      "loss 19.79078475966418 at update 1601\n",
      "loss 19.790386144161072 at update 1701\n",
      "loss 19.790175743860825 at update 1801\n",
      "loss 19.790069472792123 at update 1901\n",
      "loss 19.790018352021466 at update 2001\n",
      "loss 19.789994945698922 at update 2101\n",
      "loss 19.78998466662761 at update 2201\n",
      "loss 19.789980392314583 at update 2301\n",
      "loss 19.789978704492857 at update 2401\n",
      "loss 19.7899782624431 at update 2501\n",
      "loss 19.789978075700162 at update 2601\n",
      "loss 19.789977984100094 at update 2701\n",
      "loss 19.78997792250184 at update 2801\n",
      "loss 19.789977950473286 at update 2901\n",
      "loss 19.789977879843914 at update 3001\n",
      "loss 19.78997799456617 at update 3101\n",
      "loss 19.789977998267563 at update 3201\n",
      "loss 19.789978027745782 at update 3301\n",
      "loss 19.789978006032797 at update 3401\n",
      "loss 19.789977994014013 at update 3501\n",
      "loss 19.7899779836521 at update 3601\n",
      "loss 19.78997795768281 at update 3701\n",
      "loss 19.78997789653551 at update 3801\n",
      "loss 19.78997798747552 at update 3901\n",
      "loss 19.7899782078466 at update 4001\n",
      "loss 19.789978111083894 at update 4101\n",
      "loss 19.789978047444812 at update 4201\n",
      "loss 19.78997801669805 at update 4301\n",
      "loss 19.789978037828114 at update 4401\n",
      "loss 19.78997801727248 at update 4501\n",
      "loss 19.789978071912497 at update 4601\n",
      "loss 19.789978106677925 at update 4701\n",
      "loss 19.789978106678834 at update 4801\n",
      "loss 19.789978055833938 at update 4901\n"
     ]
    }
   ],
   "source": [
    "loss = None\n",
    "disp_inter = 100\n",
    "\n",
    "for ei in range(5000):\n",
    "    optimizer.zero_grad()\n",
    "    loss_ = -model(obs_seqs, st_seqs)\n",
    "    loss_.backward()\n",
    "    optimizer.step()\n",
    "    \n",
    "    if loss is None:\n",
    "        loss = loss_.item()\n",
    "    else:\n",
    "        loss = 0.9 * loss + 0.1 * loss_.item()\n",
    "        \n",
    "    if numpy.mod(ei, disp_inter) == 0:\n",
    "        print(F'loss {loss} at update {ei+1}')"
   ]
  },
  {
   "cell_type": "code",
   "execution_count": 265,
   "metadata": {},
   "outputs": [
    {
     "data": {
      "text/plain": [
       "array([[0, 0, 0, 0, 1, 0, 0, 0, 0, 0, 0, 0, 1, 0, 1, 0, 0, 1, 0, 0, 0, 0,\n",
       "        0, 1, 0, 0, 0, 1, 0, 0, 1, 0, 0, 0, 1, 0, 0, 0, 1, 0, 0, 0, 0, 1,\n",
       "        1, 1, 0, 0, 0, 1]])"
      ]
     },
     "execution_count": 265,
     "metadata": {},
     "output_type": "execute_result"
    }
   ],
   "source": [
    "numpy.array(model.decode(obs_seqs[1].unsqueeze(0))).T[:20]"
   ]
  },
  {
   "cell_type": "code",
   "execution_count": 266,
   "metadata": {},
   "outputs": [
    {
     "data": {
      "text/plain": [
       "tensor([0, 0, 0, 0, 1, 0, 0, 0, 0, 0, 0, 0, 0, 0, 1, 0, 0, 0, 0, 0, 0, 0, 0, 1,\n",
       "        0, 0, 0, 1, 0, 0, 1, 0, 0, 0, 1, 0, 0, 0, 1, 0, 0, 0, 0, 1, 1, 1, 0, 0,\n",
       "        0, 0])"
      ]
     },
     "execution_count": 266,
     "metadata": {},
     "output_type": "execute_result"
    }
   ],
   "source": [
    "st_seqs[1]"
   ]
  },
  {
   "cell_type": "code",
   "execution_count": 255,
   "metadata": {},
   "outputs": [],
   "source": [
    "def softmax(x):\n",
    "    return numpy.exp(x) / numpy.exp(x).sum(-1, keepdims=True)"
   ]
  },
  {
   "cell_type": "code",
   "execution_count": 256,
   "metadata": {},
   "outputs": [
    {
     "data": {
      "text/plain": [
       "array([[0.42429057, 0.5757094 ],\n",
       "       [0.6192078 , 0.38079214]], dtype=float32)"
      ]
     },
     "execution_count": 256,
     "metadata": {},
     "output_type": "execute_result"
    }
   ],
   "source": [
    "softmax(model.transitions.data.numpy())"
   ]
  },
  {
   "cell_type": "code",
   "execution_count": 257,
   "metadata": {},
   "outputs": [
    {
     "data": {
      "text/plain": [
       "Parameter containing:\n",
       "tensor([[ 0.2340,  0.5392],\n",
       "        [ 0.0278, -0.4584]], requires_grad=True)"
      ]
     },
     "execution_count": 257,
     "metadata": {},
     "output_type": "execute_result"
    }
   ],
   "source": [
    "model.transitions"
   ]
  },
  {
   "cell_type": "code",
   "execution_count": null,
   "metadata": {},
   "outputs": [],
   "source": []
  }
 ],
 "metadata": {
  "kernelspec": {
   "display_name": "Python 3",
   "language": "python",
   "name": "python3"
  },
  "language_info": {
   "codemirror_mode": {
    "name": "ipython",
    "version": 3
   },
   "file_extension": ".py",
   "mimetype": "text/x-python",
   "name": "python",
   "nbconvert_exporter": "python",
   "pygments_lexer": "ipython3",
   "version": "3.7.4"
  }
 },
 "nbformat": 4,
 "nbformat_minor": 4
}
